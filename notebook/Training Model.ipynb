{
 "cells": [
  {
   "cell_type": "code",
   "execution_count": null,
   "metadata": {},
   "outputs": [],
   "source": [
    "import pandas as pd\n",
    "import matplotlib.pyplot as plt\n",
    "import math\n",
    "import numpy as np"
   ]
  },
  {
   "cell_type": "markdown",
   "execution_count": null,
   "metadata": {},
   "outputs": [],
   "source": [
    "## Read Dataset"
   ]
  },
  {
   "cell_type": "code",
   "execution_count": null,
   "metadata": {},
   "outputs": [],
   "source": [
    "#df = pd.read_csv('../data/movielens-dataset/ratings.dat')\n",
    "#df = pd.read_csv('../data/movielens100k/ratings.csv', sep=\"::\", names=['userId', 'movieId', 'rating', 'timestamp'])\n",
    "df = pd.read_csv('../data/movielens100k/ratings.csv')\n",
    "df.head()"
   ]
  },
  {
   "cell_type": "code",
   "execution_count": null,
   "metadata": {},
   "outputs": [],
   "source": [
    "df.rating.plot(kind='hist')"
   ]
  },
  {
   "cell_type": "code",
   "execution_count": null,
   "metadata": {},
   "outputs": [],
   "source": [
    "df_user_idx = df[['userId']].drop_duplicates().reset_index(drop=True)\\\n",
    "                .reset_index().rename(columns={'index': 'userId_idx'})\n",
    "df_user_idx.shape"
   ]
  },
  {
   "cell_type": "code",
   "execution_count": null,
   "metadata": {},
   "outputs": [],
   "source": [
    "df_user_idx.head()"
   ]
  },
  {
   "cell_type": "code",
   "execution_count": null,
   "metadata": {},
   "outputs": [],
   "source": [
    "df_movie_idx = df[['movieId']].drop_duplicates().reset_index(drop=True)\\\n",
    "                    .reset_index().rename(columns={'index': 'movieId_idx'})\n",
    "df_movie_idx.shape"
   ]
  },
  {
   "cell_type": "code",
   "execution_count": null,
   "metadata": {},
   "outputs": [],
   "source": [
    "df_movie_idx.head()"
   ]
  },
  {
   "cell_type": "markdown",
   "execution_count": null,
   "metadata": {},
   "outputs": [],
   "source": [
    "### Preparate Train Dataset"
   ]
  },
  {
   "cell_type": "code",
   "execution_count": null,
   "metadata": {},
   "outputs": [],
   "source": [
    "from scipy.sparse.csr import csr_matrix\n",
    "from scipy.sparse import save_npz, load_npz\n"
   ]
  },
  {
   "cell_type": "code",
   "execution_count": null,
   "metadata": {},
   "outputs": [],
   "source": [
    "df_train = df#.groupby('userId').agg({'movieId': lambda x: list(x), 'rating': lambda x: list(x)})\n",
    "\n",
    "# Merge Dataset\n",
    "df_train = df_train.merge(\n",
    "                df_user_idx, on='userId', how='inner')\\\n",
    "            .merge(\n",
    "                df_movie_idx, on='movieId', how='inner')\n",
    "\n",
    "\n",
    "df_train.head()"
   ]
  },
  {
   "cell_type": "code",
   "execution_count": null,
   "metadata": {},
   "outputs": [],
   "source": [
    "df_train.rating.plot(kind='hist')"
   ]
  },
  {
   "cell_type": "code",
   "execution_count": null,
   "metadata": {},
   "outputs": [],
   "source": [
    "#df.groupby('userId').agg({'movieId': lambda x: list(x), 'rating': lambda x: list(x)})"
   ]
  },
  {
   "cell_type": "code",
   "execution_count": null,
   "metadata": {},
   "outputs": [],
   "source": [
    "#df_train['rating'] = (df_train['rating'] > 0).astype(float)\n",
    "spc_data = csr_matrix((df_train['rating'].values, (df_train.userId_idx.values, df_train.movieId_idx.values)), \n",
    "                shape=(len(df_user_idx), len(df_movie_idx)))\n",
    "\n",
    "spc_data.toarray()"
   ]
  },
  {
   "cell_type": "code",
   "execution_count": null,
   "metadata": {},
   "outputs": [],
   "source": [
    "import gc\n",
    "gc.collect()\n",
    "del df"
   ]
  },
  {
   "cell_type": "markdown",
   "execution_count": null,
   "metadata": {},
   "outputs": [],
   "source": [
    "## Model"
   ]
  },
  {
   "cell_type": "code",
   "execution_count": null,
   "metadata": {},
   "outputs": [],
   "source": [
    "import tensorflow as tf\n",
    "from tensorflow.keras import backend as K\n",
    "from tensorflow.keras import Model\n",
    "from tensorflow.keras.layers import Dense, Dropout"
   ]
  },
  {
   "cell_type": "code",
   "execution_count": null,
   "metadata": {},
   "outputs": [],
   "source": [
    "class AutoEncRec(Model):\n",
    "    '''Vanilla Autoencer'''\n",
    "    \n",
    "    def __init__(self, input_size, n_dims = [64, 32, 64], dropout_rate = 0.2):\n",
    "        super(AutoEncRec,self).__init__()\n",
    "        self.input_size = input_size\n",
    "\n",
    "        self.enc_1 = Dense(n_dims[0], input_shape = (input_size, ), activation='selu')\n",
    "        self.enc_2 = Dense(n_dims[1], activation='selu')\n",
    "        self.dec_1 = Dense(n_dims[2], activation='selu')\n",
    "        self.dec_2 = Dense(input_size, activation='linear')     \n",
    "        self.dropout = Dropout(dropout_rate)\n",
    "\n",
    "    def encoder(self, x):\n",
    "        net = self.enc_1(x)\n",
    "        net = self.enc_2(net)\n",
    "        return net\n",
    "    \n",
    "    def decoder(self, x):\n",
    "        net = self.dec_1(x)\n",
    "        net = self.dec_2(net)\n",
    "        return net\n",
    "\n",
    "    def call(self, inputs):\n",
    "        net = self.decoder(self.dropout(self.encoder(inputs)))\n",
    "        return net\n",
    "\n",
    "def masked_mse(mask_value):\n",
    "    def f(y_true, y_pred):\n",
    "        mask_true = K.cast(K.not_equal(y_true, mask_value), K.floatx())\n",
    "        masked_squared_error = K.square(mask_true * (y_true - y_pred))\n",
    "        # in case mask_true is 0 everywhere, the error would be nan, therefore divide by at least 1\n",
    "        # this doesn't change anything as where sum(mask_true)==0, sum(masked_squared_error)==0 as well\n",
    "        masked_mse = K.sum(masked_squared_error, axis=-1) / K.maximum(K.sum(mask_true, axis=-1), 1)\n",
    "        return masked_mse\n",
    "    f.__name__ = str('Masked MSE (mask_value={})'.format(mask_value))\n",
    "    return f"
   ]
  },
  {
   "cell_type": "code",
   "execution_count": null,
   "metadata": {},
   "outputs": [],
   "source": [
    "input_size = len(df_movie_idx)\n",
    "\n",
    "model = AutoEncRec(input_size = input_size, n_dims = [128, 64, 128])\n",
    "model.compile(optimizer='adam', loss=masked_mse(0.0))"
   ]
  },
  {
   "cell_type": "code",
   "execution_count": null,
   "metadata": {},
   "outputs": [],
   "source": [
    "X_train    = spc_data.toarray()\n",
    "\n",
    "#train_data = tf.data.Dataset.from_tensor_slices(X_train).batch(128).shuffle(buffer_size = 1024) "
   ]
  },
  {
   "cell_type": "code",
   "execution_count": null,
   "metadata": {},
   "outputs": [],
   "source": [
    "hist = model.fit(X_train, X_train, \n",
    "                validation_split=0.2, \n",
    "                batch_size = 10, \n",
    "                epochs = 20)"
   ]
  },
  {
   "cell_type": "code",
   "execution_count": null,
   "metadata": {},
   "outputs": [],
   "source": [
    "def plot_hist(hist):\n",
    "    # summarize history for loss\n",
    "    fig, ax = plt.subplots()  # create figure & 1 axis\n",
    "\n",
    "    plt.title('model loss')\n",
    "    plt.ylabel('loss')\n",
    "    plt.xlabel('epoch')\n",
    "    plt.legend(['train', 'test'], loc='upper left')\n",
    "\n",
    "    plt.plot(hist.history['loss'])\n",
    "    plt.plot(hist.history['val_loss'])\n",
    "\n",
    "plot_hist(hist)"
   ]
  },
  {
   "cell_type": "code",
   "execution_count": null,
   "metadata": {},
   "outputs": [],
   "source": []
  },
  {
   "cell_type": "markdown",
   "execution_count": null,
   "metadata": {},
   "outputs": [],
   "source": [
    "## Recommender"
   ]
  },
  {
   "cell_type": "code",
   "execution_count": null,
   "metadata": {},
   "outputs": [],
   "source": [
    "#df_movie = pd.read_csv('../data/ml-latest-small/movies.csv')\n",
    "df_movie = pd.read_csv('../data/movielens100k/movies.csv')\n",
    "df_movie = df_movie.merge(df_movie_idx).set_index('movieId_idx')\n",
    "df_movie.head()"
   ]
  },
  {
   "cell_type": "code",
   "execution_count": null,
   "metadata": {},
   "outputs": [],
   "source": [
    "id_view    = [1, 3114, 87222, 84944, 260, 1196, 1210, 2628, 79006, 2116, 7153, 5952]\n",
    "idx_view   = df_movie_idx.set_index(\"movieId\").loc[id_view].values.reshape(-1)"
   ]
  },
  {
   "cell_type": "code",
   "execution_count": null,
   "metadata": {},
   "outputs": [],
   "source": [
    "df_movie[df_movie.title.str.contains(\"Lord of the Rings\")]"
   ]
  },
  {
   "cell_type": "code",
   "execution_count": null,
   "metadata": {},
   "outputs": [],
   "source": []
  },
  {
   "cell_type": "code",
   "execution_count": null,
   "metadata": {},
   "outputs": [],
   "source": []
  },
  {
   "cell_type": "code",
   "execution_count": null,
   "metadata": {},
   "outputs": [],
   "source": [
    "df_movie[df_movie.movieId.isin(id_view)]"
   ]
  },
  {
   "cell_type": "code",
   "execution_count": null,
   "metadata": {},
   "outputs": [],
   "source": [
    "data = np.ones(len(idx_view))\n",
    "row  = np.zeros(len(idx_view))\n",
    "col  = idx_view\n",
    "\n",
    "data_input = csr_matrix((data, (row, col)), shape=(1, input_size)).toarray()"
   ]
  },
  {
   "cell_type": "code",
   "execution_count": null,
   "metadata": {},
   "outputs": [],
   "source": [
    "data_pred  = model.predict(data_input)[0]"
   ]
  },
  {
   "cell_type": "code",
   "execution_count": null,
   "metadata": {},
   "outputs": [],
   "source": [
    "idx_pred  = list(set(list(range(len(df_movie)))) - set(idx_view))\n",
    "\n",
    "data_pred = model.predict(data_input)[0]\n",
    "data_pred = dict(\n",
    "                sorted(\n",
    "                    zip(\n",
    "                        list(idx_pred), \n",
    "                        list(data_pred[idx_pred].astype(float))\n",
    "                    ), \n",
    "                key=lambda x: x[1],\n",
    "            reverse=True))\n",
    "data_pred            "
   ]
  },
  {
   "cell_type": "code",
   "execution_count": null,
   "metadata": {},
   "outputs": [],
   "source": [
    "df_movie.loc[list(data_pred.keys())][:10]"
   ]
  },
  {
   "cell_type": "code",
   "execution_count": null,
   "metadata": {},
   "outputs": [],
   "source": [
    "df_movie.loc[idx_view][:10]"
   ]
  },
  {
   "cell_type": "code",
   "execution_count": null,
   "metadata": {},
   "outputs": [],
   "source": []
  },
  {
   "cell_type": "code",
   "execution_count": null,
   "metadata": {},
   "outputs": [],
   "source": []
  },
  {
   "cell_type": "code",
   "execution_count": null,
   "metadata": {},
   "outputs": [],
   "source": [
    "s"
   ]
  },
  {
   "cell_type": "code",
   "execution_count": null,
   "metadata": {},
   "outputs": [],
   "source": []
  },
  {
   "cell_type": "code",
   "execution_count": null,
   "metadata": {},
   "outputs": [],
   "source": [
    "d"
   ]
  }
 ],
 "metadata": {
  "kernelspec": {
   "display_name": "Python 3.7.3 64-bit ('base': conda)",
   "language": "python",
   "name": "python37364bitbaseconda71fa0390d2e947479e80d6476a063090"
  },
  "language_info": {
   "codemirror_mode": {
    "name": "ipython",
    "version": 3
   },
   "file_extension": ".py",
   "mimetype": "text/x-python",
   "name": "python",
   "nbconvert_exporter": "python",
   "pygments_lexer": "ipython3",
   "version": "3.7.3-final"
  },
  "toc": {
   "base_numbering": 1,
   "nav_menu": {},
   "number_sections": true,
   "sideBar": true,
   "skip_h1_title": false,
   "title_cell": "Table of Contents",
   "title_sidebar": "Contents",
   "toc_cell": false,
   "toc_position": {},
   "toc_section_display": true,
   "toc_window_display": false
  }
 },
 "nbformat": 4,
 "nbformat_minor": 2
}